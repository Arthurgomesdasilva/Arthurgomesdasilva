{
  "nbformat": 4,
  "nbformat_minor": 0,
  "metadata": {
    "colab": {
      "provenance": [],
      "authorship_tag": "ABX9TyN23/2cQy1NoWcM0oVECKTw",
      "include_colab_link": true
    },
    "kernelspec": {
      "name": "python3",
      "display_name": "Python 3"
    },
    "language_info": {
      "name": "python"
    }
  },
  "cells": [
    {
      "cell_type": "markdown",
      "metadata": {
        "id": "view-in-github",
        "colab_type": "text"
      },
      "source": [
        "<a href=\"https://colab.research.google.com/github/Arthurgomesdasilva/Arthurgomesdasilva/blob/master/Arthur_Gomes_trab_ale__D.ipynb\" target=\"_parent\"><img src=\"https://colab.research.google.com/assets/colab-badge.svg\" alt=\"Open In Colab\"/></a>"
      ]
    },
    {
      "cell_type": "markdown",
      "source": [
        "Questão 1\n",
        "teste"
      ],
      "metadata": {
        "id": "abQgzuS1tgVL"
      }
    },
    {
      "cell_type": "code",
      "execution_count": null,
      "metadata": {
        "id": "sMh63n2pnxrd"
      },
      "outputs": [],
      "source": [
        "import math\n",
        "\n",
        "def calcular_altura(tempo):\n",
        "    # Constante da aceleração da gravidade em metros por segundo ao quadrado\n",
        "    aceleracao_gravidade = 9.8\n",
        "\n",
        "    # Fórmula da altura em queda livre: h = (1/2) * g * t^2\n",
        "    altura = (1/2) * aceleracao_gravidade * math.pow(tempo, 2)\n",
        "\n",
        "    return altura"
      ]
    },
    {
      "cell_type": "code",
      "source": [
        "tempo_em_segundos = 3.5\n",
        "altura_calculada = calcular_altura(tempo_em_segundos)\n",
        "print(\"A altura em queda livre é:\", altura_calculada, \"metros\")"
      ],
      "metadata": {
        "colab": {
          "base_uri": "https://localhost:8080/"
        },
        "id": "snXY3FRutZQK",
        "outputId": "9ba53c6e-b419-4db9-ebd3-770e2dd0402e"
      },
      "execution_count": null,
      "outputs": [
        {
          "output_type": "stream",
          "name": "stdout",
          "text": [
            "A altura em queda livre é: 60.025000000000006 metros\n"
          ]
        }
      ]
    },
    {
      "cell_type": "markdown",
      "source": [
        "Questao 1\n"
      ],
      "metadata": {
        "id": "nURwVtLGtqsW"
      }
    },
    {
      "cell_type": "code",
      "source": [
        "import math\n",
        "\n",
        "def calcular_altura():\n",
        "    \"\"\"\n",
        "    Calcula a altura e retorna diferentes casos:\n",
        "    - Melhor caso: altura mínima (hmin)\n",
        "    - Altura real (hreal)\n",
        "    - Pior caso: altura máxima (hmax)\n",
        "    - Caso médio: média entre hmin e hmax (mean)\n",
        "    - Altura à direita (hright)\n",
        "    - Altura à esquerda (hleft)\n",
        "    \"\"\"\n",
        "\n",
        "    # Variáveis de exemplo\n",
        "    hmin = 10\n",
        "    hmax = 100\n",
        "    hreal = 50\n",
        "    mean = math.floor((hmax - hmin) / 2)\n",
        "    hright = hreal + 10\n",
        "    hleft = hreal - 10\n",
        "\n",
        "    return {\n",
        "        \"Melhor caso\": hmin,\n",
        "        \"Altura real\": hreal,\n",
        "        \"Pior caso\": hmax,\n",
        "        \"Caso médio\": mean,\n",
        "        \"Altura à direita\": hright,\n",
        "        \"Altura à esquerda\": hleft\n",
        "    }\n"
      ],
      "metadata": {
        "id": "BK6QXuZOts8h"
      },
      "execution_count": null,
      "outputs": []
    },
    {
      "cell_type": "code",
      "source": [
        "alturas = calcular_altura()\n",
        "\n",
        "print(\"Melhor caso: \", alturas[\"Melhor caso\"])\n",
        "print(\"Altura real: \", alturas[\"Altura real\"])\n",
        "print(\"Pior caso: \", alturas[\"Pior caso\"])\n",
        "print(\"Caso médio: \", alturas[\"Caso médio\"])\n",
        "print(\"Altura à direita: \", alturas[\"Altura à direita\"])\n",
        "print(\"Altura à esquerda: \", alturas[\"Altura à esquerda\"])\n"
      ],
      "metadata": {
        "colab": {
          "base_uri": "https://localhost:8080/"
        },
        "id": "bUpeymsBuPm8",
        "outputId": "73f0a139-a9f6-49f3-9cb1-804b1d7236b9"
      },
      "execution_count": null,
      "outputs": [
        {
          "output_type": "stream",
          "name": "stdout",
          "text": [
            "Melhor caso:  10\n",
            "Altura real:  50\n",
            "Pior caso:  100\n",
            "Caso médio:  45\n",
            "Altura à direita:  60\n",
            "Altura à esquerda:  40\n"
          ]
        }
      ]
    },
    {
      "cell_type": "markdown",
      "source": [
        "Questão 2"
      ],
      "metadata": {
        "id": "ToHIBQkwuVSN"
      }
    },
    {
      "cell_type": "code",
      "source": [
        "class Node:\n",
        "    def __init__(self, value):\n",
        "        self.value = value\n",
        "        self.left = None\n",
        "        self.right = None\n",
        "\n",
        "\n",
        "def altura_arvore(node):\n",
        "    if node is None:\n",
        "        return 0\n",
        "\n",
        "    altura_esquerda = altura_arvore(node.left)\n",
        "    altura_direita = altura_arvore(node.right)\n",
        "\n",
        "    return max(altura_esquerda, altura_direita) + 1\n",
        "\n",
        "\n",
        "def verificar_arvore_equilibrada(node):\n",
        "    if node is None:\n",
        "        return True\n",
        "\n",
        "    altura_esquerda = altura_arvore(node.left)\n",
        "    altura_direita = altura_arvore(node.right)\n",
        "\n",
        "    diferenca_altura = abs(altura_esquerda - altura_direita)\n",
        "\n",
        "    if diferenca_altura > 1:\n",
        "        return False\n",
        "\n",
        "    return verificar_arvore_equilibrada(node.left) and verificar_arvore_equilibrada(node.right)\n"
      ],
      "metadata": {
        "id": "4K27s-nbuXoo"
      },
      "execution_count": null,
      "outputs": []
    },
    {
      "cell_type": "code",
      "source": [
        "# Construção de uma árvore de exemplo\n",
        "raiz = Node(1)\n",
        "raiz.left = Node(2)\n",
        "raiz.right = Node(3)\n",
        "raiz.left.left = Node(4)\n",
        "raiz.left.right = Node(5)\n",
        "\n",
        "# Verificação se a árvore está equilibrada\n",
        "esta_equilibrada = verificar_arvore_equilibrada(raiz)\n",
        "\n",
        "# Imprime o resultado\n",
        "print(\"A árvore está equilibrada:\", esta_equilibrada)\n"
      ],
      "metadata": {
        "colab": {
          "base_uri": "https://localhost:8080/"
        },
        "id": "XPjoOYJZur6y",
        "outputId": "ec5836c9-65e6-48df-fd77-26d3b2020f7d"
      },
      "execution_count": null,
      "outputs": [
        {
          "output_type": "stream",
          "name": "stdout",
          "text": [
            "A árvore está equilibrada: True\n"
          ]
        }
      ]
    },
    {
      "cell_type": "markdown",
      "source": [
        "Questão 3"
      ],
      "metadata": {
        "id": "V6KjedfhuwwD"
      }
    },
    {
      "cell_type": "code",
      "source": [
        "class Node:\n",
        "    def __init__(self, value):\n",
        "        self.value = value\n",
        "        self.left = None\n",
        "        self.right = None\n",
        "\n",
        "\n",
        "def encontrar_minimo(node):\n",
        "    current = node\n",
        "    while current.left:\n",
        "        current = current.left\n",
        "    return current\n",
        "\n",
        "\n",
        "def deletar_no(node, valor):\n",
        "    if node is None:\n",
        "        return None\n",
        "\n",
        "    if valor < node.value:\n",
        "        node.left = deletar_no(node.left, valor)\n",
        "    elif valor > node.value:\n",
        "        node.right = deletar_no(node.right, valor)\n",
        "    else:\n",
        "        # Caso (A): Nó sem filhos ou com apenas um filho\n",
        "        if node.left is None:\n",
        "            return node.right\n",
        "        elif node.right is None:\n",
        "            return node.left\n",
        "        # Caso (B): Nó com dois filhos\n",
        "        else:\n",
        "            sucessor = encontrar_minimo(node.right)\n",
        "            node.value = sucessor.value\n",
        "            node.right = deletar_no(node.right, sucessor.value)\n",
        "\n",
        "    return node\n"
      ],
      "metadata": {
        "id": "o6BMefEfu0UQ"
      },
      "execution_count": null,
      "outputs": []
    },
    {
      "cell_type": "code",
      "source": [
        "# Construção de uma árvore de exemplo\n",
        "raiz = Node(4)\n",
        "raiz.left = Node(2)\n",
        "raiz.right = Node(6)\n",
        "raiz.left.left = Node(1)\n",
        "raiz.left.right = Node(3)\n",
        "raiz.right.left = Node(5)\n",
        "raiz.right.right = Node(7)\n",
        "\n",
        "# Deletar nó com valor 2\n",
        "raiz = deletar_no(raiz, 2)\n",
        "\n",
        "# Imprimir a árvore modificada\n",
        "# Note que o nó com valor 2 foi deletado\n",
        "# e o nó com valor 3 subiu para ocupar seu lugar\n",
        "def percorrer_em_ordem(node):\n",
        "    if node:\n",
        "        percorrer_em_ordem(node.left)\n",
        "        print(node.value, end=\" \")\n",
        "        percorrer_em_ordem\n"
      ],
      "metadata": {
        "id": "x--wpP3Dvjhc"
      },
      "execution_count": null,
      "outputs": []
    }
  ]
}