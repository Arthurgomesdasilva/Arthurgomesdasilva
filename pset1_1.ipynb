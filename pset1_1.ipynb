{
  "nbformat": 4,
  "nbformat_minor": 0,
  "metadata": {
    "colab": {
      "name": "pset1.1",
      "provenance": [],
      "authorship_tag": "ABX9TyNnhPnHBFbrFmgrfij+GU+o",
      "include_colab_link": true
    },
    "kernelspec": {
      "name": "python3",
      "display_name": "Python 3"
    },
    "language_info": {
      "name": "python"
    }
  },
  "cells": [
    {
      "cell_type": "markdown",
      "metadata": {
        "id": "view-in-github",
        "colab_type": "text"
      },
      "source": [
        "<a href=\"https://colab.research.google.com/github/Arthurgomesdasilva/Arthurgomesdasilva/blob/master/pset1_1.ipynb\" target=\"_parent\"><img src=\"https://colab.research.google.com/assets/colab-badge.svg\" alt=\"Open In Colab\"/></a>"
      ]
    },
    {
      "cell_type": "code",
      "source": [
        "import sys\n",
        "def main():\n",
        "    \n",
        "    nums = int(input(\"Number: \"))\n",
        "    if len(str(nums)) > 16 or len(str(nums)) < 12:\n",
        "        print(\"INVALID\")\n",
        "    else:\n",
        "        card_classify(card_luhn(nums), nums)\n",
        "        \n",
        "def card_classify(check, nums):\n",
        "\n",
        "    num = int(str(nums)[:2])\n",
        "\n",
        "    if check != 0:\n",
        "        print(\"INVALID\")\n",
        "\n",
        "    \n",
        "    elif num == 37 or num == 34:\n",
        "        print(\"AMEX\")\n",
        "\n",
        "    \n",
        "    elif str(num)[:1] == \"4\":\n",
        "        print(\"VISA\")\n",
        "\n",
        "   \n",
        "    elif num > 50 and num < 56:\n",
        "        print(\"MASTERCARD\")\n",
        "    \n",
        "    else:\n",
        "        print(\"INVALID\")\n",
        "import sys\n",
        "\n",
        "def luhn (n):\n",
        "  sum = 0\n",
        "  alt = 0\n",
        "  i = len(n) - 1\n",
        "  num = 0\n",
        "  while i>= 0:\n",
        "    num = int (n [i])\n",
        "    if num > 9 :\n",
        "      num=(num%10) + 1\n",
        "      sum = sum + num\n",
        "      alt = not alt \n",
        "      i -= 1\n",
        "      return sum%10 == 0\n",
        "      if __name__ == \"__main__\":\n",
        "       if len(sys.argv) != 2:\n",
        "        print(\" numero do cartao\")\n",
        "        sys.exit()\n",
        "        n = str(sys.argv [1])\n",
        "        if luhn(n):\n",
        "          print(\"VALID\")\n",
        "        else:\n",
        "            print(\"INVALID\")\n"
      ],
      "metadata": {
        "id": "wqKnTmUTXPEJ"
      },
      "execution_count": 12,
      "outputs": []
    }
  ]
}