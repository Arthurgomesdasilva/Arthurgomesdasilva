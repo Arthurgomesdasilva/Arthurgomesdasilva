{
  "nbformat": 4,
  "nbformat_minor": 0,
  "metadata": {
    "colab": {
      "provenance": [],
      "include_colab_link": true
    },
    "kernelspec": {
      "name": "python3",
      "display_name": "Python 3"
    },
    "language_info": {
      "name": "python"
    }
  },
  "cells": [
    {
      "cell_type": "markdown",
      "metadata": {
        "id": "view-in-github",
        "colab_type": "text"
      },
      "source": [
        "<a href=\"https://colab.research.google.com/github/Arthurgomesdasilva/Arthurgomesdasilva/blob/master/Arthur_Gomes_trab_ale__D_(2).ipynb\" target=\"_parent\"><img src=\"https://colab.research.google.com/assets/colab-badge.svg\" alt=\"Open In Colab\"/></a>"
      ]
    },
    {
      "cell_type": "markdown",
      "source": [
        "Questão teste pra ver se ta rodando certinho\n"
      ],
      "metadata": {
        "id": "abQgzuS1tgVL"
      }
    },
    {
      "cell_type": "code",
      "execution_count": null,
      "metadata": {
        "id": "sMh63n2pnxrd"
      },
      "outputs": [],
      "source": [
        "import math\n",
        "\n",
        "def calcular_altura(tempo):\n",
        "    # Constante da aceleração da gravidade em metros por segundo ao quadrado\n",
        "    aceleracao_gravidade = 9.8\n",
        "\n",
        "    # Fórmula da altura em queda livre: h = (1/2) * g * t^2\n",
        "    altura = (1/2) * aceleracao_gravidade * math.pow(tempo, 2)\n",
        "\n",
        "    return altura"
      ]
    },
    {
      "cell_type": "code",
      "source": [
        "tempo_em_segundos = 3.5\n",
        "altura_calculada = calcular_altura(tempo_em_segundos)\n",
        "print(\"A altura em queda livre é:\", altura_calculada, \"metros\")"
      ],
      "metadata": {
        "colab": {
          "base_uri": "https://localhost:8080/"
        },
        "id": "snXY3FRutZQK",
        "outputId": "9ba53c6e-b419-4db9-ebd3-770e2dd0402e"
      },
      "execution_count": null,
      "outputs": [
        {
          "output_type": "stream",
          "name": "stdout",
          "text": [
            "A altura em queda livre é: 60.025000000000006 metros\n"
          ]
        }
      ]
    },
    {
      "cell_type": "markdown",
      "source": [
        "Questao 1\n"
      ],
      "metadata": {
        "id": "nURwVtLGtqsW"
      }
    },
    {
      "cell_type": "code",
      "source": [
        "from math import floor\n",
        "\n",
        "def calcularAltura(hmin, hreal, hmax):\n",
        "    \"\"\"\n",
        "    DOCSTRING: CALCULAR A ALTURA E RETORNAR:\n",
        "    -> MELHOR CASO: ALTURA MINIMA: hmin\n",
        "    -> ALTURA REAL. : hreal\n",
        "    -> PIOR CASO: ALTURA MAXIMA: hmax\n",
        "    -> CASO MÉDIO: ALTURA MEAN: floor((hmax - hmin) / 2)\n",
        "    -> ALTURA DIREIRA: hright\n",
        "    -> ALTURA ESQUERDA: hleft\n",
        "    \"\"\"\n",
        "    hmean = floor((hmax - hmin) / 2)  # Calcule a altura média\n",
        "    hright = hmean + 5  # Calcule a altura à direita\n",
        "    hleft = hmean - 5  # Calcule a altura à esquerda\n",
        "\n",
        "    return hmin, hreal, hmax, hmean, hright, hleft\n",
        "\n",
        "# Solicita os valores de altura ao usuário\n",
        "hmin = float(input(\"Digite o valor da altura mínima: \"))\n",
        "hreal = float(input(\"Digite o valor da altura real: \"))\n",
        "hmax = float(input(\"Digite o valor da altura máxima: \"))\n",
        "\n",
        "# Chama a função e obtém os resultados\n",
        "resultado = calcularAltura(hmin, hreal, hmax)\n",
        "\n",
        "# Exibe os resultados\n",
        "print(\"MELHOR CASO: ALTURA MÍNIMA: \", resultado[0])\n",
        "print(\"ALTURA REAL: \", resultado[1])\n",
        "print(\"PIOR CASO: ALTURA MÁXIMA: \", resultado[2])\n",
        "print(\"CASO MÉDIO: ALTURA MÉDIA: \", resultado[3])\n",
        "print(\"ALTURA DIREITA: \", resultado[4])\n",
        "print(\"ALTURA ESQUERDA: \", resultado[5])"
      ],
      "metadata": {
        "id": "BK6QXuZOts8h",
        "colab": {
          "base_uri": "https://localhost:8080/"
        },
        "outputId": "66654bd1-8975-4fb2-89e9-c0347ad04d6c"
      },
      "execution_count": null,
      "outputs": [
        {
          "output_type": "stream",
          "name": "stdout",
          "text": [
            "Digite o valor da altura mínima: 2\n",
            "Digite o valor da altura real: 10\n",
            "Digite o valor da altura máxima: 30\n",
            "MELHOR CASO: ALTURA MÍNIMA:  2.0\n",
            "ALTURA REAL:  10.0\n",
            "PIOR CASO: ALTURA MÁXIMA:  30.0\n",
            "CASO MÉDIO: ALTURA MÉDIA:  14\n",
            "ALTURA DIREITA:  19\n",
            "ALTURA ESQUERDA:  9\n"
          ]
        }
      ]
    },
    {
      "cell_type": "markdown",
      "source": [
        "Questão 2"
      ],
      "metadata": {
        "id": "ToHIBQkwuVSN"
      }
    },
    {
      "cell_type": "code",
      "source": [
        "class Node:\n",
        "    def __init__(self, value):\n",
        "        self.value = value\n",
        "        self.left = None\n",
        "        self.right = None\n",
        "\n",
        "class BinaryTree:\n",
        "    def __init__(self):\n",
        "        self.root = None\n",
        "\n",
        "    def insert(self, value):\n",
        "        if self.root is None:\n",
        "            self.root = Node(value)\n",
        "        else:\n",
        "            self._insert_recursive(self.root, value)\n",
        "\n",
        "    def _insert_recursive(self, node, value):\n",
        "        if value < node.value:\n",
        "            if node.left is None:\n",
        "                node.left = Node(value)\n",
        "            else:\n",
        "                self._insert_recursive(node.left, value)\n",
        "        else:\n",
        "            if node.right is None:\n",
        "                node.right = Node(value)\n",
        "            else:\n",
        "                self._insert_recursive(node.right, value)\n",
        "\n",
        "    def verificarEquilibrio(self):\n",
        "        \"\"\"\n",
        "        Verifica se a árvore está equilibrada.\n",
        "\n",
        "        RETORNO:\n",
        "        True: Árvore equilibrada\n",
        "        False: Caso contrário\n",
        "        \"\"\"\n",
        "\n",
        "        def altura(node):\n",
        "            if node is None:\n",
        "                return 0\n",
        "            return max(altura(node.left), altura(node.right)) + 1\n",
        "\n",
        "        def verificarEquilibrioRecursivo(node):\n",
        "            if node is None:\n",
        "                return True\n",
        "\n",
        "            altura_esquerda = altura(node.left)\n",
        "            altura_direita = altura(node.right)\n",
        "\n",
        "            if abs(altura_esquerda - altura_direita) > 1:\n",
        "                return False\n",
        "\n",
        "            return (\n",
        "                verificarEquilibrioRecursivo(node.left)\n",
        "                and verificarEquilibrioRecursivo(node.right)\n",
        "            )\n",
        "\n",
        "        return verificarEquilibrioRecursivo(self.root)\n",
        "\n",
        "\n",
        "# Criando a árvore e inserindo os nós\n",
        "tree = BinaryTree()\n",
        "\n",
        "n = int(input(\"Digite o número de nós da árvore: \"))\n",
        "\n",
        "for _ in range(n):\n",
        "    value = int(input(\"Digite o valor do nó: \"))\n",
        "    tree.insert(value)\n",
        "\n",
        "# Verificando o equilíbrio da árvore\n",
        "equilibrada = tree.verificarEquilibrio()\n",
        "\n",
        "# Exibindo o resultado\n",
        "if equilibrada:\n",
        "    print(\"A árvore está equilibrada.\")\n",
        "else:\n",
        "    print(\"A árvore não está equilibrada.\")"
      ],
      "metadata": {
        "id": "4K27s-nbuXoo",
        "colab": {
          "base_uri": "https://localhost:8080/"
        },
        "outputId": "4b75ac99-9ea7-4cb2-b22a-0a2500b5ba8d"
      },
      "execution_count": null,
      "outputs": [
        {
          "output_type": "stream",
          "name": "stdout",
          "text": [
            "Digite o número de nós da árvore: 10\n",
            "Digite o valor do nó: 1\n",
            "Digite o valor do nó: 10\n",
            "Digite o valor do nó: 2\n",
            "Digite o valor do nó: 3\n",
            "Digite o valor do nó: 8\n",
            "Digite o valor do nó: 6\n",
            "Digite o valor do nó: 4\n",
            "Digite o valor do nó: 5\n",
            "Digite o valor do nó: 7\n",
            "Digite o valor do nó: 9\n",
            "A árvore não está equilibrada.\n"
          ]
        }
      ]
    },
    {
      "cell_type": "markdown",
      "source": [
        "Questão 3"
      ],
      "metadata": {
        "id": "V6KjedfhuwwD"
      }
    },
    {
      "cell_type": "code",
      "source": [
        "class Node:\n",
        "    def __init__(self, value):\n",
        "        self.value = value\n",
        "        self.left = None\n",
        "        self.right = None\n",
        "\n",
        "class BinaryTree:\n",
        "    def __init__(self):\n",
        "        self.root = None\n",
        "\n",
        "    def DELETAR(self, value):\n",
        "        if not self.root:\n",
        "            return None\n",
        "\n",
        "        self.root = self._DELETAR(self.root, value)\n",
        "\n",
        "    def _DELETAR(self, node, value):\n",
        "        if node is None:\n",
        "            return None\n",
        "\n",
        "        if value < node.value:\n",
        "            node.left = self._DELETAR(node.left, value)\n",
        "        elif value > node.value:\n",
        "            node.right = self._DELETAR(node.right, value)\n",
        "        else:\n",
        "            # Encontrou o nó a ser removido\n",
        "            if node.left is None and node.right is None:\n",
        "                # Caso (A): Nó folha\n",
        "                print(\"Nó deletado:\", node.value)\n",
        "                return None\n",
        "            elif node.left is None:\n",
        "                # Caso (B): Nó com um filho à direita\n",
        "                print(\"Nó deletado:\", node.value)\n",
        "                return node.right\n",
        "            elif node.right is None:\n",
        "                # Caso (B): Nó com um filho à esquerda\n",
        "                print(\"Nó deletado:\", node.value)\n",
        "                return node.left\n",
        "            else:\n",
        "                # Caso (C): Nó com dois filhos\n",
        "                successor = self._find_minimum(node.right)\n",
        "                node.value = successor.value\n",
        "                node.right = self._DELETAR(node.right, successor.value)\n",
        "\n",
        "        return node\n",
        "\n",
        "    def _find_minimum(self, node):\n",
        "        current = node\n",
        "        while current.left is not None:\n",
        "            current = current.left\n",
        "        return current\n",
        "\n",
        "# Criando uma instância de BinaryTree\n",
        "tree = BinaryTree()\n",
        "\n",
        "# Inserindo elementos na árvore\n",
        "tree.root = Node(10)\n",
        "tree.root.left = Node(5)\n",
        "tree.root.right = Node(15)\n",
        "tree.root.left.left = Node(3)\n",
        "tree.root.left.right = Node(7)\n",
        "tree.root.right.left = Node(12)\n",
        "tree.root.right.right = Node(20)\n",
        "\n",
        "# Solicitando ao usuário o valor do nó a ser deletado\n",
        "valor_deletar = int(input(\"Digite o valor do nó a ser deletado: \"))\n",
        "\n",
        "# Deletando o nó especificado pelo usuário\n",
        "tree.DELETAR(valor_deletar)\n"
      ],
      "metadata": {
        "colab": {
          "base_uri": "https://localhost:8080/"
        },
        "id": "vj01wTrLDFNW",
        "outputId": "9788c5af-34bf-4d23-fb00-bb0e121e8196"
      },
      "execution_count": null,
      "outputs": [
        {
          "output_type": "stream",
          "name": "stdout",
          "text": [
            "Digite o valor do nó a ser deletado: 20\n",
            "Nó deletado: 20\n"
          ]
        }
      ]
    }
  ]
}