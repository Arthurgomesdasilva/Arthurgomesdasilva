{
  "nbformat": 4,
  "nbformat_minor": 0,
  "metadata": {
    "colab": {
      "name": "pset1",
      "provenance": [],
      "collapsed_sections": [],
      "authorship_tag": "ABX9TyNGxRKPA3Bz1pbZ2KFQibib",
      "include_colab_link": true
    },
    "kernelspec": {
      "name": "python3",
      "display_name": "Python 3"
    },
    "language_info": {
      "name": "python"
    }
  },
  "cells": [
    {
      "cell_type": "markdown",
      "metadata": {
        "id": "view-in-github",
        "colab_type": "text"
      },
      "source": [
        "<a href=\"https://colab.research.google.com/github/Arthurgomesdasilva/Arthurgomesdasilva/blob/master/pset1.ipynb\" target=\"_parent\"><img src=\"https://colab.research.google.com/assets/colab-badge.svg\" alt=\"Open In Colab\"/></a>"
      ]
    },
    {
      "cell_type": "code",
      "execution_count": 11,
      "metadata": {
        "id": "cwK10aDfB0iP"
      },
      "outputs": [],
      "source": [
        "import sys\n",
        "\n",
        "def luhn (n):\n",
        "  sum = 0\n",
        "  alt = 0\n",
        "  i = len(n) - 1\n",
        "  num = 0\n",
        "  while i>= 0:\n",
        "    num = int (n [i])\n",
        "    if num > 9 :\n",
        "      num=(num%10) + 1\n",
        "      sum = sum + num\n",
        "      alt = not alt \n",
        "      i -= 1\n",
        "      return sum%10 == 0\n",
        "      if __name__ == \"__main__\":\n",
        "       if len(sys.argv) != 2:\n",
        "        print(\" 123654654\")\n",
        "        sys.exit()\n",
        "        n = str(sys.argv [1])\n",
        "        if luhn(n):\n",
        "          print(\"VALID\")\n",
        "        else:\n",
        "            print(\"INVALID\")"
      ]
    }
  ]
}