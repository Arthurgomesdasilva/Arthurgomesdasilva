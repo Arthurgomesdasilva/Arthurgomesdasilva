{
  "nbformat": 4,
  "nbformat_minor": 0,
  "metadata": {
    "colab": {
      "provenance": [],
      "collapsed_sections": [],
      "mount_file_id": "1PSxXKI2eFtPoR0Keib200zYNCkt0N9ga",
      "authorship_tag": "ABX9TyPTgmg65fbfwGcYfmSbpao6",
      "include_colab_link": true
    },
    "kernelspec": {
      "name": "python3",
      "display_name": "Python 3"
    },
    "language_info": {
      "name": "python"
    }
  },
  "cells": [
    {
      "cell_type": "markdown",
      "metadata": {
        "id": "view-in-github",
        "colab_type": "text"
      },
      "source": [
        "<a href=\"https://colab.research.google.com/github/Arthurgomesdasilva/Arthurgomesdasilva/blob/master/C%C3%B3pia_de_pset2_tentei_py.ipynb\" target=\"_parent\"><img src=\"https://colab.research.google.com/assets/colab-badge.svg\" alt=\"Open In Colab\"/></a>"
      ]
    },
    {
      "cell_type": "code",
      "execution_count": null,
      "metadata": {
        "colab": {
          "base_uri": "https://localhost:8080/"
        },
        "id": "4dxIEBUA0VZL",
        "outputId": "1229a48c-46b7-4f97-ba0c-1415ec6caae1"
      },
      "outputs": [
        {
          "output_type": "stream",
          "name": "stdout",
          "text": [
            "Looking in indexes: https://pypi.org/simple, https://us-python.pkg.dev/colab-wheels/public/simple/\n",
            "Requirement already satisfied: pillow in /usr/local/lib/python3.7/dist-packages (7.1.2)\n"
          ]
        }
      ],
      "source": [
        "!pip install pillow"
      ]
    },
    {
      "cell_type": "code",
      "source": [
        "import PIL "
      ],
      "metadata": {
        "id": "Ul1ZP0FE1Csg"
      },
      "execution_count": null,
      "outputs": []
    },
    {
      "cell_type": "code",
      "source": [
        "print('pillow version' , PIL.__version__)\n",
        "print('PIL version', PIL.__version__)"
      ],
      "metadata": {
        "colab": {
          "base_uri": "https://localhost:8080/"
        },
        "id": "Vhgx5zeD1eND",
        "outputId": "a5dcded6-6ffe-4d63-fae4-b33bdb86f3e8"
      },
      "execution_count": null,
      "outputs": [
        {
          "output_type": "stream",
          "name": "stdout",
          "text": [
            "pillow version 7.1.2\n",
            "PIL version 7.1.2\n"
          ]
        }
      ]
    },
    {
      "cell_type": "code",
      "source": [
        "from PIL import image"
      ],
      "metadata": {
        "id": "6ZiOgWVa13O0"
      },
      "execution_count": null,
      "outputs": []
    },
    {
      "cell_type": "code",
      "source": [
        "image = image.open(\"/content/sample_data/image/kratos.jpg\")"
      ],
      "metadata": {
        "id": "dT5fh--Q8hiL"
      },
      "execution_count": null,
      "outputs": []
    },
    {
      "cell_type": "code",
      "source": [
        "image"
      ],
      "metadata": {
        "id": "WFfR7xR88jCY"
      },
      "execution_count": null,
      "outputs": []
    },
    {
      "cell_type": "code",
      "source": [
        "print(image.format)\n"
      ],
      "metadata": {
        "id": "NS1WgFks8kQg"
      },
      "execution_count": null,
      "outputs": []
    },
    {
      "cell_type": "code",
      "source": [
        "print(image.mode)"
      ],
      "metadata": {
        "id": "Tjexpo_b8qqX"
      },
      "execution_count": null,
      "outputs": []
    },
    {
      "cell_type": "code",
      "source": [
        "print(image.size)"
      ],
      "metadata": {
        "id": "keHTlDEm8vdH"
      },
      "execution_count": null,
      "outputs": []
    },
    {
      "cell_type": "code",
      "source": [
        "from matplotlib import image\n",
        "from matplotlib import pyplot "
      ],
      "metadata": {
        "id": "O6ou_T5X88-e"
      },
      "execution_count": null,
      "outputs": []
    },
    {
      "cell_type": "code",
      "source": [],
      "metadata": {
        "id": "Nsz9UUKq8z_U"
      },
      "execution_count": null,
      "outputs": []
    },
    {
      "cell_type": "code",
      "source": [
        "data = image.inread(\"/content/sample_data/image/kratos.jpg\")"
      ],
      "metadata": {
        "id": "YqnmK-oK_TOk"
      },
      "execution_count": null,
      "outputs": []
    },
    {
      "cell_type": "code",
      "source": [
        "print(data)"
      ],
      "metadata": {
        "id": "-ZYf5-vB_mnV"
      },
      "execution_count": null,
      "outputs": []
    },
    {
      "cell_type": "code",
      "source": [
        "print(data.dtype)"
      ],
      "metadata": {
        "id": "QVpNDQHE_z65"
      },
      "execution_count": null,
      "outputs": []
    },
    {
      "cell_type": "code",
      "source": [
        "print(data.shape)"
      ],
      "metadata": {
        "id": "qKRTDlUgMFzw"
      },
      "execution_count": null,
      "outputs": []
    },
    {
      "cell_type": "code",
      "source": [
        "print(data.max())"
      ],
      "metadata": {
        "id": "ef69TOIHMJ-e"
      },
      "execution_count": null,
      "outputs": []
    },
    {
      "cell_type": "code",
      "source": [
        "print(data.min())"
      ],
      "metadata": {
        "id": "xjIHFRlfMVy1"
      },
      "execution_count": null,
      "outputs": []
    },
    {
      "cell_type": "code",
      "source": [
        "pyplot.imshow(data)"
      ],
      "metadata": {
        "id": "XYhbrqqnMau6"
      },
      "execution_count": null,
      "outputs": []
    },
    {
      "cell_type": "code",
      "source": [
        "image2 = image.fromarray(data)"
      ],
      "metadata": {
        "id": "TwUMrIBAMQl0"
      },
      "execution_count": null,
      "outputs": []
    },
    {
      "cell_type": "code",
      "source": [
        "type(image2)"
      ],
      "metadata": {
        "id": "iubp1VdoOOGR"
      },
      "execution_count": null,
      "outputs": []
    },
    {
      "cell_type": "code",
      "source": [
        "from numpy import asarray"
      ],
      "metadata": {
        "id": "-tVWi-anOZcz"
      },
      "execution_count": null,
      "outputs": []
    },
    {
      "cell_type": "code",
      "source": [
        "image = image.open(\"/content/sample_data/image/kratos.jpg\")"
      ],
      "metadata": {
        "id": "J7Aw6mheOse2"
      },
      "execution_count": null,
      "outputs": []
    },
    {
      "cell_type": "code",
      "source": [
        "data = asarray(image)"
      ],
      "metadata": {
        "id": "4BLsggKcOyTk"
      },
      "execution_count": null,
      "outputs": []
    },
    {
      "cell_type": "code",
      "source": [
        "print(data.dtype)\n",
        "print(data.shape)"
      ],
      "metadata": {
        "id": "z0C2God8O2ls"
      },
      "execution_count": null,
      "outputs": []
    },
    {
      "cell_type": "code",
      "source": [
        "image.save(\"/content/sample_data/image/kratos.jpg\",format=\"PNG\")"
      ],
      "metadata": {
        "id": "A9io4vx3O_Rl"
      },
      "execution_count": null,
      "outputs": []
    },
    {
      "cell_type": "code",
      "source": [
        "image.save(\"/content/sample_data/image/kratos.jpg\", format=\"GIF\")"
      ],
      "metadata": {
        "id": "KZCtL43_PNTY"
      },
      "execution_count": null,
      "outputs": []
    },
    {
      "cell_type": "code",
      "source": [
        "image3 = image.open(\"/content/sample_data/image/kratos.gif\")"
      ],
      "metadata": {
        "id": "1wpZ0bF4PbPk"
      },
      "execution_count": null,
      "outputs": []
    },
    {
      "cell_type": "code",
      "source": [
        "print(image3.format)"
      ],
      "metadata": {
        "id": "lnr6YjESQKGE"
      },
      "execution_count": null,
      "outputs": []
    },
    {
      "cell_type": "code",
      "source": [
        "image_cinza = image.convert(mode=\"L\")"
      ],
      "metadata": {
        "id": "-NoFa06WQO1p"
      },
      "execution_count": null,
      "outputs": []
    },
    {
      "cell_type": "code",
      "source": [
        "image_cinza"
      ],
      "metadata": {
        "id": "zNdC0DTDTfHJ"
      },
      "execution_count": null,
      "outputs": []
    },
    {
      "cell_type": "code",
      "source": [
        "image_cinza.save(\"/content/sample_data/image/kratos.jpg\")"
      ],
      "metadata": {
        "id": "fZavFo6PTi-9"
      },
      "execution_count": null,
      "outputs": []
    },
    {
      "cell_type": "code",
      "source": [
        "print(image.size)"
      ],
      "metadata": {
        "id": "bHAmvPTaUBdp"
      },
      "execution_count": null,
      "outputs": []
    },
    {
      "cell_type": "code",
      "source": [
        "image.thumbnail((100, 100))"
      ],
      "metadata": {
        "id": "xIWAwnOCUcmw"
      },
      "execution_count": null,
      "outputs": []
    },
    {
      "cell_type": "code",
      "source": [
        "image"
      ],
      "metadata": {
        "id": "-lzWKrHOYz9d"
      },
      "execution_count": null,
      "outputs": []
    },
    {
      "cell_type": "code",
      "source": [
        "print(image.size)"
      ],
      "metadata": {
        "id": "x7ymPPJvY2bN"
      },
      "execution_count": null,
      "outputs": []
    },
    {
      "cell_type": "code",
      "source": [
        "image = image.open(\"/content/sample_data/image/kratos.jpg\")"
      ],
      "metadata": {
        "id": "RyTvD_5XbkRg"
      },
      "execution_count": null,
      "outputs": []
    },
    {
      "cell_type": "code",
      "source": [
        "image_resize = image.resize((200, 200))"
      ],
      "metadata": {
        "id": "_ysGfyT1bxEa"
      },
      "execution_count": null,
      "outputs": []
    },
    {
      "cell_type": "code",
      "source": [
        "print(image_resize.size)"
      ],
      "metadata": {
        "id": "TPC2q49tcCfV"
      },
      "execution_count": null,
      "outputs": []
    },
    {
      "cell_type": "code",
      "source": [
        "pyplot.imshow(image_resize)"
      ],
      "metadata": {
        "id": "trj_ksXXcC1p"
      },
      "execution_count": null,
      "outputs": []
    },
    {
      "cell_type": "code",
      "source": [
        "horizontal_image = image.transpose(image.FLIP_LEFT_RIGHT)"
      ],
      "metadata": {
        "id": "AOtolmqCcV5y"
      },
      "execution_count": null,
      "outputs": []
    },
    {
      "cell_type": "code",
      "source": [
        "pyplot.imshow(horizontal_image)"
      ],
      "metadata": {
        "id": "sdCdOHFlcl38"
      },
      "execution_count": null,
      "outputs": []
    },
    {
      "cell_type": "code",
      "source": [
        "vertical_image = image.transpose(image.FLP_TOP_BOTTOM)"
      ],
      "metadata": {
        "id": "tU7xHZ9rcr9A"
      },
      "execution_count": null,
      "outputs": []
    },
    {
      "cell_type": "code",
      "source": [
        "pyplot.imshow(vertical_image)"
      ],
      "metadata": {
        "id": "Msq-5HUmdDn4"
      },
      "execution_count": null,
      "outputs": []
    },
    {
      "cell_type": "code",
      "source": [
        "image = image.open(\"/content/sample_data/image/kratos.jpg\")"
      ],
      "metadata": {
        "id": "636BsTySdPKy"
      },
      "execution_count": null,
      "outputs": []
    },
    {
      "cell_type": "code",
      "source": [
        "pyplot.imshow(image.rotate(45))"
      ],
      "metadata": {
        "id": "iyiHGvQDdgnA"
      },
      "execution_count": null,
      "outputs": []
    },
    {
      "cell_type": "code",
      "source": [
        "pyplot.imshow(image.rotate(90))"
      ],
      "metadata": {
        "id": "k3I6McOgdmo4"
      },
      "execution_count": null,
      "outputs": []
    },
    {
      "cell_type": "code",
      "source": [
        "pyplot.imshow(image)"
      ],
      "metadata": {
        "id": "b0JviRVrdxlE"
      },
      "execution_count": null,
      "outputs": []
    },
    {
      "cell_type": "code",
      "source": [
        "pyplot.imshow(image.crop((100,100,200,200)))"
      ],
      "metadata": {
        "id": "hpkW89INd2x4"
      },
      "execution_count": null,
      "outputs": []
    },
    {
      "cell_type": "code",
      "source": [
        "image = image.open(\"/content/sample_data/image/kratos.jpg\")"
      ],
      "metadata": {
        "id": "Mr13tWNMd2og"
      },
      "execution_count": null,
      "outputs": []
    },
    {
      "cell_type": "code",
      "source": [
        "pixels = asarray(image)"
      ],
      "metadata": {
        "id": "zm7bAA8Ge2Wg"
      },
      "execution_count": null,
      "outputs": []
    },
    {
      "cell_type": "code",
      "source": [
        "print('data type: %s ' % pixels.dtype)\n",
        "print('min: %.3f, max: %.3f' % (pixels.min(), pixels.max()))"
      ],
      "metadata": {
        "id": "sU5fUkzMfCZd"
      },
      "execution_count": null,
      "outputs": []
    },
    {
      "cell_type": "code",
      "source": [
        "pixels = pixels.astype('float32')"
      ],
      "metadata": {
        "id": "4uchaLbufev0"
      },
      "execution_count": null,
      "outputs": []
    },
    {
      "cell_type": "code",
      "source": [
        "pixels /= pixels.max()"
      ],
      "metadata": {
        "id": "WeriB86qgMgL"
      },
      "execution_count": null,
      "outputs": []
    },
    {
      "cell_type": "code",
      "source": [
        "print('data type: %s' % pixels.dtype)\n",
        "print('min: %.3f, max: %.3f' % (pixels.min(), pixels.max()))"
      ],
      "metadata": {
        "id": "wKfGu1VngVw-"
      },
      "execution_count": null,
      "outputs": []
    },
    {
      "cell_type": "markdown",
      "source": [
        "# Nova seção"
      ],
      "metadata": {
        "id": "x8OccnZ55brZ"
      }
    },
    {
      "cell_type": "code",
      "source": [],
      "metadata": {
        "id": "CL_ZjK_P5ch7"
      },
      "execution_count": null,
      "outputs": []
    },
    {
      "cell_type": "markdown",
      "source": [
        "# Nova seção"
      ],
      "metadata": {
        "id": "qYF01HOi35Ur"
      }
    },
    {
      "cell_type": "code",
      "source": [],
      "metadata": {
        "id": "q-Pj3feq4ARL"
      },
      "execution_count": null,
      "outputs": []
    }
  ]
}